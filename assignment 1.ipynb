{
 "cells": [
  {
   "cell_type": "markdown",
   "id": "8e617cb0",
   "metadata": {},
   "source": [
    "# assignment 1 (not compulsory but useful)"
   ]
  },
  {
   "cell_type": "code",
   "execution_count": 2,
   "id": "653a9fd1",
   "metadata": {},
   "outputs": [],
   "source": [
    "#1. Find out all the types of error that we have encountered in our lecture and why? Also include the examples?"
   ]
  },
  {
   "cell_type": "code",
   "execution_count": 3,
   "id": "0d51615b",
   "metadata": {},
   "outputs": [
    {
     "name": "stdout",
     "output_type": "stream",
     "text": [
      "324\n",
      "458\n"
     ]
    },
    {
     "ename": "NameError",
     "evalue": "name 'Ten' is not defined",
     "output_type": "error",
     "traceback": [
      "\u001b[1;31m---------------------------------------------------------------------------\u001b[0m",
      "\u001b[1;31mNameError\u001b[0m                                 Traceback (most recent call last)",
      "\u001b[1;32m~\\AppData\\Local\\Temp\\ipykernel_8096\\2370658974.py\u001b[0m in \u001b[0;36m<module>\u001b[1;34m\u001b[0m\n\u001b[0;32m      4\u001b[0m \u001b[0mprint\u001b[0m\u001b[1;33m(\u001b[0m\u001b[0mten\u001b[0m\u001b[1;33m)\u001b[0m\u001b[1;33m\u001b[0m\u001b[1;33m\u001b[0m\u001b[0m\n\u001b[0;32m      5\u001b[0m \u001b[0mprint\u001b[0m\u001b[1;33m(\u001b[0m\u001b[0mTEN\u001b[0m\u001b[1;33m)\u001b[0m\u001b[1;33m\u001b[0m\u001b[1;33m\u001b[0m\u001b[0m\n\u001b[1;32m----> 6\u001b[1;33m \u001b[0mprint\u001b[0m\u001b[1;33m(\u001b[0m\u001b[0mTen\u001b[0m\u001b[1;33m)\u001b[0m\u001b[1;33m\u001b[0m\u001b[1;33m\u001b[0m\u001b[0m\n\u001b[0m",
      "\u001b[1;31mNameError\u001b[0m: name 'Ten' is not defined"
     ]
    }
   ],
   "source": [
    "# python is case sensitive\n",
    "ten=324\n",
    "TEN=458\n",
    "print(ten)\n",
    "print(TEN)\n",
    "print(Ten) # this print will have given error because of the is case sensitive it can not recogniged the word. error should be said \"Ten\" is not defined"
   ]
  },
  {
   "cell_type": "code",
   "execution_count": 10,
   "id": "a6cac0ef",
   "metadata": {},
   "outputs": [
    {
     "name": "stdout",
     "output_type": "stream",
     "text": [
      "deepak\n"
     ]
    },
    {
     "ename": "NameError",
     "evalue": "name 'deepak' is not defined",
     "output_type": "error",
     "traceback": [
      "\u001b[1;31m---------------------------------------------------------------------------\u001b[0m",
      "\u001b[1;31mNameError\u001b[0m                                 Traceback (most recent call last)",
      "\u001b[1;32m~\\AppData\\Local\\Temp\\ipykernel_8096\\1501254795.py\u001b[0m in \u001b[0;36m<module>\u001b[1;34m\u001b[0m\n\u001b[0;32m      1\u001b[0m \u001b[1;31m# we can not use the \"Reserved word in python\" because it will disturb that fuctions work.\u001b[0m\u001b[1;33m\u001b[0m\u001b[1;33m\u001b[0m\u001b[0m\n\u001b[0;32m      2\u001b[0m \u001b[0mprint\u001b[0m\u001b[1;33m(\u001b[0m\u001b[1;34m\"deepak\"\u001b[0m\u001b[1;33m)\u001b[0m \u001b[1;31m# ir will work\u001b[0m\u001b[1;33m\u001b[0m\u001b[1;33m\u001b[0m\u001b[0m\n\u001b[1;32m----> 3\u001b[1;33m \u001b[0mprint\u001b[0m\u001b[1;33m=\u001b[0m\u001b[0mdeepak\u001b[0m\u001b[1;33m\u001b[0m\u001b[1;33m\u001b[0m\u001b[0m\n\u001b[0m\u001b[0;32m      4\u001b[0m \u001b[0mprint\u001b[0m \u001b[1;31m# this print has given an error bcoz this was used as varible.\u001b[0m\u001b[1;33m\u001b[0m\u001b[1;33m\u001b[0m\u001b[0m\n\u001b[0;32m      5\u001b[0m \u001b[1;31m# this \"print\" will give more error therfore we use \"del\"(As delete) for correct all the other coming fuctions.\u001b[0m\u001b[1;33m\u001b[0m\u001b[1;33m\u001b[0m\u001b[0m\n",
      "\u001b[1;31mNameError\u001b[0m: name 'deepak' is not defined"
     ]
    }
   ],
   "source": [
    "# we can not use the \"Reserved word in python\" because it will disturb that fuctions work.\n",
    "print(\"deepak\") # it will work \n",
    "print=deepak\n",
    "print # this print has given an error bcoz \"print\" was used as varible. \n",
    "# this \"print\" will give more error therfore we use \"del\"(As delete) for correct all the other coming fuctions.\n",
    "del print# this is used to delete the fuction.\n",
    "\n"
   ]
  },
  {
   "cell_type": "code",
   "execution_count": 11,
   "id": "b3638f05",
   "metadata": {},
   "outputs": [
    {
     "name": "stdout",
     "output_type": "stream",
     "text": [
      "sunny sir\n"
     ]
    }
   ],
   "source": [
    "print(\"sunny sir\") # this will work"
   ]
  },
  {
   "cell_type": "code",
   "execution_count": 13,
   "id": "1689b497",
   "metadata": {},
   "outputs": [
    {
     "name": "stdout",
     "output_type": "stream",
     "text": [
      "mango apple banana orage\n"
     ]
    },
    {
     "ename": "ValueError",
     "evalue": "not enough values to unpack (expected 4, got 3)",
     "output_type": "error",
     "traceback": [
      "\u001b[1;31m---------------------------------------------------------------------------\u001b[0m",
      "\u001b[1;31mValueError\u001b[0m                                Traceback (most recent call last)",
      "\u001b[1;32m~\\AppData\\Local\\Temp\\ipykernel_8096\\3731152873.py\u001b[0m in \u001b[0;36m<module>\u001b[1;34m\u001b[0m\n\u001b[0;32m      3\u001b[0m \u001b[0mprint\u001b[0m\u001b[1;33m(\u001b[0m\u001b[0ma\u001b[0m\u001b[1;33m,\u001b[0m\u001b[0mb\u001b[0m\u001b[1;33m,\u001b[0m\u001b[0mc\u001b[0m\u001b[1;33m,\u001b[0m\u001b[0md\u001b[0m\u001b[1;33m)\u001b[0m \u001b[1;31m# this will work\u001b[0m\u001b[1;33m\u001b[0m\u001b[1;33m\u001b[0m\u001b[0m\n\u001b[0;32m      4\u001b[0m \u001b[1;33m\u001b[0m\u001b[0m\n\u001b[1;32m----> 5\u001b[1;33m \u001b[0ma\u001b[0m\u001b[1;33m,\u001b[0m\u001b[0mb\u001b[0m\u001b[1;33m,\u001b[0m\u001b[0mc\u001b[0m\u001b[1;33m,\u001b[0m\u001b[0md\u001b[0m\u001b[1;33m=\u001b[0m\u001b[1;34m\"bike\"\u001b[0m\u001b[1;33m,\u001b[0m\u001b[1;34m\"car\"\u001b[0m\u001b[1;33m,\u001b[0m\u001b[1;34m\"cycle\"\u001b[0m\u001b[1;33m\u001b[0m\u001b[1;33m\u001b[0m\u001b[0m\n\u001b[0m\u001b[0;32m      6\u001b[0m \u001b[0mprint\u001b[0m\u001b[1;33m(\u001b[0m\u001b[0ma\u001b[0m\u001b[1;33m,\u001b[0m\u001b[0mb\u001b[0m\u001b[1;33m,\u001b[0m\u001b[0mc\u001b[0m\u001b[1;33m,\u001b[0m\u001b[0md\u001b[0m\u001b[1;33m)\u001b[0m\u001b[1;33m\u001b[0m\u001b[1;33m\u001b[0m\u001b[0m\n",
      "\u001b[1;31mValueError\u001b[0m: not enough values to unpack (expected 4, got 3)"
     ]
    }
   ],
   "source": [
    "#multivariable\n",
    "a,b,c,d=\"mango\",\"apple\", \"banana\",\"orage\"\n",
    "print(a,b,c,d) # this will work\n",
    "\n",
    "a,b,c,d=\"bike\",\"car\",\"cycle\"\n",
    "print(a,b,c,d)#here we got an error because of insufficiaent datas and that recognized in error also."
   ]
  },
  {
   "cell_type": "code",
   "execution_count": 21,
   "id": "6900746e",
   "metadata": {},
   "outputs": [
    {
     "name": "stdout",
     "output_type": "stream",
     "text": [
      "Enter 1st number :- 25\n",
      "Enter 2nd number :- 26\n",
      "2526\n"
     ]
    },
    {
     "ename": "TypeError",
     "evalue": "unsupported operand type(s) for -: 'str' and 'str'",
     "output_type": "error",
     "traceback": [
      "\u001b[1;31m---------------------------------------------------------------------------\u001b[0m",
      "\u001b[1;31mTypeError\u001b[0m                                 Traceback (most recent call last)",
      "\u001b[1;32m~\\AppData\\Local\\Temp\\ipykernel_8096\\2125712082.py\u001b[0m in \u001b[0;36m<module>\u001b[1;34m\u001b[0m\n\u001b[0;32m      2\u001b[0m \u001b[0mb\u001b[0m\u001b[1;33m=\u001b[0m\u001b[0minput\u001b[0m\u001b[1;33m(\u001b[0m\u001b[1;34m\"Enter 2nd number :- \"\u001b[0m\u001b[1;33m)\u001b[0m\u001b[1;33m\u001b[0m\u001b[1;33m\u001b[0m\u001b[0m\n\u001b[0;32m      3\u001b[0m \u001b[0mprint\u001b[0m\u001b[1;33m(\u001b[0m\u001b[0ma\u001b[0m\u001b[1;33m+\u001b[0m\u001b[0mb\u001b[0m\u001b[1;33m)\u001b[0m \u001b[1;31m# this will given \"2525\" bcoz input take \"string value\"\u001b[0m\u001b[1;33m\u001b[0m\u001b[1;33m\u001b[0m\u001b[0m\n\u001b[1;32m----> 4\u001b[1;33m \u001b[0mprint\u001b[0m\u001b[1;33m(\u001b[0m\u001b[0ma\u001b[0m\u001b[1;33m-\u001b[0m\u001b[0mb\u001b[0m\u001b[1;33m)\u001b[0m \u001b[1;31m# string not subtract\u001b[0m\u001b[1;33m\u001b[0m\u001b[1;33m\u001b[0m\u001b[0m\n\u001b[0m\u001b[0;32m      5\u001b[0m \u001b[0mprint\u001b[0m\u001b[1;33m(\u001b[0m\u001b[0ma\u001b[0m\u001b[1;33m*\u001b[0m\u001b[0mb\u001b[0m\u001b[1;33m)\u001b[0m\u001b[1;31m# alse not multiple\u001b[0m\u001b[1;33m\u001b[0m\u001b[1;33m\u001b[0m\u001b[0m\n",
      "\u001b[1;31mTypeError\u001b[0m: unsupported operand type(s) for -: 'str' and 'str'"
     ]
    }
   ],
   "source": [
    "a=input(\"Enter 1st number :- \")\n",
    "b=input(\"Enter 2nd number :- \")\n",
    "print(a+b) # this will given \"2525\" bcoz input take \"string value\"\n",
    "print(a-b) # string not subtract\n",
    "print(a*b)# alse not multiple"
   ]
  },
  {
   "cell_type": "markdown",
   "id": "61067540",
   "metadata": {},
   "source": [
    "#Take input A and B and print their sum, mul, div, square of the nos."
   ]
  },
  {
   "cell_type": "code",
   "execution_count": 22,
   "id": "33513584",
   "metadata": {},
   "outputs": [
    {
     "name": "stdout",
     "output_type": "stream",
     "text": [
      "Enter 1st number-50\n",
      "Enter 2nd number :-2\n",
      "52\n",
      "48\n",
      "100\n",
      "2500\n"
     ]
    }
   ],
   "source": [
    "# if we want to  take input as the int,flots,complex then we use typecasting.\n",
    "a= int(input(\"Enter 1st number-\"))# this will use as integer\n",
    "b=int(input(\"Enter 2nd number :-\"))# this will use as integer\n",
    "print(a+b)\n",
    "print(a-b)\n",
    "print(a*b)\n",
    "print(a**b)"
   ]
  },
  {
   "cell_type": "markdown",
   "id": "cd483fb3",
   "metadata": {},
   "source": [
    "#How many reserve keywords are there in python and why we should not use them as a Vvariable name"
   ]
  },
  {
   "cell_type": "code",
   "execution_count": 23,
   "id": "aa81a8ea",
   "metadata": {},
   "outputs": [
    {
     "data": {
      "text/plain": [
       "'False, True, else, if, print, in, is, import, while, return  global\\n    or, not, yield, with, lambda, nonlocal, raise, none, as, assert,\\n    and, break, class, from, finally, except, elif, del, def, continue\\n    pass, for.'"
      ]
     },
     "execution_count": 23,
     "metadata": {},
     "output_type": "execute_result"
    }
   ],
   "source": [
    "# RESERVED WORD:-\n",
    "\"\"\"False, True, else, if, print, in, is, import, while, return  global\n",
    "    or, not, yield, with, lambda, nonlocal, raise, none, as, assert,\n",
    "    and, break, class, from, finally, except, elif, del, def, continue\n",
    "    pass, for.\"\"\""
   ]
  },
  {
   "cell_type": "markdown",
   "id": "f9b6ccd7",
   "metadata": {},
   "source": [
    "#Create email ids with the user inputs. in the following format - lastname.firstname@gmail.com\n"
   ]
  },
  {
   "cell_type": "code",
   "execution_count": 24,
   "id": "99cdd5fb",
   "metadata": {},
   "outputs": [
    {
     "name": "stdout",
     "output_type": "stream",
     "text": [
      "Your last name:- yadav\n",
      "Your first name:- deepak\n",
      "yadav.deepak@gmail.com\n"
     ]
    }
   ],
   "source": [
    "#syntax\n",
    "lastname=input(\"Your last name:- \")\n",
    "firstname=input(\"Your first name:- \")\n",
    "print(f\"{lastname}.{firstname}@gmail.com\")"
   ]
  },
  {
   "cell_type": "markdown",
   "id": "9d63aaf5",
   "metadata": {},
   "source": [
    "#Try to print the following lines -\n",
    "#Hi I'm Sunny\n",
    "#My address is 22\\3\n",
    "#I earn 20$ daily."
   ]
  },
  {
   "cell_type": "code",
   "execution_count": 26,
   "id": "75b4308f",
   "metadata": {},
   "outputs": [
    {
     "name": "stdout",
     "output_type": "stream",
     "text": [
      "your name :-sunny\n",
      "your address:- 22/3\n",
      "how much tou earn :- 20$\n",
      "Hi i'am sunny\n",
      "My address is 22/3\n",
      "i earn 20$ daily\n"
     ]
    }
   ],
   "source": [
    "\n",
    "a=input(\"your name :-\")\n",
    "b=input(\"your address:- \")\n",
    "c=input(\"how much tou earn :- \")\n",
    "print(f\"\"\"Hi i'am {a}\n",
    "My address is {b}\n",
    "i earn {c} daily\"\"\")"
   ]
  },
  {
   "cell_type": "markdown",
   "id": "3c3f4df1",
   "metadata": {},
   "source": [
    "#Take user input (name, address, date of birth etc) to fill a form for your college and print their email IDs"
   ]
  },
  {
   "cell_type": "code",
   "execution_count": 47,
   "id": "2afe5df9",
   "metadata": {},
   "outputs": [
    {
     "name": "stdout",
     "output_type": "stream",
     "text": [
      "Enter your first name: deepak\n",
      "Enter your last name: yadav\n",
      "Enter your house_no: 1\n",
      "Enter your Village/City name: mumbai\n",
      "Enter your Post Office: ghatkopar\n",
      "Enter your District: mumbai suburban\n",
      "Enter your State: maharastra\n",
      "birth day:- 15\n",
      "month of birth:- 07\n",
      "year of birth2000\n",
      "Your full name: deepak yadav\n",
      "\n",
      "Your full address:- \n",
      "house_no: 1,\n",
      "Village/City name: mumbai,\n",
      "Post Office: ghatkopar,\n",
      "District: mumbai suburban,\n",
      "State: maharastra \n",
      "your birth day is: 15/07/2000,\n",
      "your age should be :22 \n",
      "\n",
      "\n",
      "Your email id is: yadav.deepak@gmail.com\n"
     ]
    }
   ],
   "source": [
    "#taking all in inforamtion from the users and create email.\n",
    "first= input(\"Enter your first name: \")\n",
    "last = input(\"Enter your last name: \")\n",
    "\n",
    "address = input(\"Enter your house_no: \")\n",
    "area = input(\"Enter your Village/City name: \")\n",
    "postoffice = input(\"Enter your Post Office: \")\n",
    "dist = input(\"Enter your District: \")\n",
    "state = input(\"Enter your State: \")\n",
    "d=input(\"birth day:- \")\n",
    "m=input(\"month of birth:- \")\n",
    "y=int(input(\"year of birth\"))\n",
    "age=2022-y\n",
    "\n",
    "print(f\"Your full name: {first} {last}\")\n",
    "\n",
    "print(f\"\"\"Your full address:- \n",
    "house_no: {address},\n",
    "Village/City name: {area},\n",
    "Post Office: {postoffice},\n",
    "District: {dist},\n",
    "State: {state} \n",
    "your birth day is: {d}/{m}/{y},\n",
    "your age should be :{age} \n",
    "\"\"\")\n",
    "\n",
    "print()\n",
    "\n",
    "print(f\"Your email id is: {last}.{first}@gmail.com\")"
   ]
  },
  {
   "cell_type": "markdown",
   "id": "c5c1c4c6",
   "metadata": {},
   "source": [
    "#Convert the following -\n",
    "#\"22.4\" into integer\n",
    "#\"22\" into complex no.d"
   ]
  },
  {
   "cell_type": "code",
   "execution_count": 34,
   "id": "2de56279",
   "metadata": {},
   "outputs": [
    {
     "name": "stdout",
     "output_type": "stream",
     "text": [
      "22\n",
      "(22+0j)\n"
     ]
    },
    {
     "data": {
      "text/plain": [
       "(22+0j)"
      ]
     },
     "execution_count": 34,
     "metadata": {},
     "output_type": "execute_result"
    }
   ],
   "source": [
    "k=22.4\n",
    "type(k)\n",
    "k=int(k) #by type casting\n",
    "print(k)\n",
    "\n",
    "\n",
    "l=22\n",
    "type(l)\n",
    "l=complex(l)\n",
    "print(l)\n",
    "l"
   ]
  },
  {
   "cell_type": "code",
   "execution_count": null,
   "id": "3c3bef6c",
   "metadata": {},
   "outputs": [],
   "source": []
  }
 ],
 "metadata": {
  "kernelspec": {
   "display_name": "Python 3 (ipykernel)",
   "language": "python",
   "name": "python3"
  },
  "language_info": {
   "codemirror_mode": {
    "name": "ipython",
    "version": 3
   },
   "file_extension": ".py",
   "mimetype": "text/x-python",
   "name": "python",
   "nbconvert_exporter": "python",
   "pygments_lexer": "ipython3",
   "version": "3.9.13"
  }
 },
 "nbformat": 4,
 "nbformat_minor": 5
}
